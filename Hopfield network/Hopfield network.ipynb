{
 "cells": [
  {
   "cell_type": "markdown",
   "metadata": {},
   "source": [
    "# Hopfield Network\n",
    "\n",
    "## Introduction\n",
    "\n",
    "### Structure\n",
    "![Structure](Hopfield-net.png)\n",
    "\n",
    "### Updating\n",
    "Here we update the network asynchronously by randomly choosing one node and update its ouput.\n",
    "For a network with $N$ nodes:\n",
    "$$s_{i}(t+1)=sgn(\\sum_{j=1}^{N}w_{ij}s_{j}(t)-\\theta_{i})$$\n",
    "$$sgn(x)=1 (x\\geq0)$$\n",
    "$$sgn(x)=-1(otherwise)$$\n",
    "$$W=W^{T}$$\n",
    "$$W_{ii}>=0$$\n",
    "Where $w_{ij}$ indicates the entry at $i_{th}$ row and $j_{th}$ column of $W$.\n",
    "asynchronous\n",
    "### Energy\n",
    "#### Definition\n",
    "$$E=-\\frac{1}{2}\\sum_{i=1}^{N}\\sum_{j=1}^{N}w_{ij}s_{i}s_{j}+\\sum_{i=1}^{N}\\theta_{i}s_{i}$$\n",
    "or in matrix form:\n",
    "$$E=-\\frac{1}{2}s^{T}Ws+\\theta^{T}s$$\n",
    "where:\n",
    "$$s=\\begin{bmatrix}s_{1}&s_{2}&\\cdots&s_{N}\\end{bmatrix}^{T}$$\n",
    "$$\\theta=\\begin{bmatrix}\\theta_{1}&\\theta_{2}&\\cdots&\\theta_{N}\\end{bmatrix}^{T}$$\n",
    "#### Proof\n",
    "* E is bounded\n",
    "$$\\lvert E\\rvert\\leq\\frac{1}{2}\\sum_{i=1}^{N}\\sum_{j=1}^{N}\\lvert w_{ij}\\rvert \\lvert s_{i}\\rvert\\lvert s_{j}\\rvert+\\sum_{i=1}^{N}\\lvert\\theta_{i}\\rvert\\lvert s_{i}\\rvert$$\n",
    "* E is monotonically decreasing\n",
    "\n",
    "Assume that the $k_{th}$ node has been updated:\n",
    "$$s(t+1)=s(t)+\\Delta s(t)$$\n",
    "$$\\Delta s(t)=\\epsilon_{k}\\Delta s_{k}(t)$$\n",
    "\\begin{equation}\n",
    "\\begin{split}\n",
    "\\Delta E&=E(t+1)-E(t)\\\\\n",
    "&=-\\frac{1}{2}\\left(\\left(s(t)+\\Delta s(t)\\right)^{T}W\\left(s(t)+\\Delta s(t)\\right)\\right)+\\theta^{T}\\left(s(t)+\\Delta s(t)\\right)\\\\\n",
    "&-\\left(-\\frac{1}{2}s(t)^{T}Ws(t)+\\theta^{T}s(t)\\right)\\\\\n",
    "&=-\\frac{1}{2}\\left(\\Delta s(t)^{T}Ws(t)+ s(t)^{T}W\\Delta s(t)+\\Delta s(t)^{T}W\\Delta s(t)\\right)+\\theta^{T}\\Delta s(t)\\\\\n",
    "&=-\\frac{1}{2}\\left[\\Delta s_{k}(t)\\sum_{j=1}^{N}w_{kj}s_{j}(t)+\\Delta s_{k}(t)\\sum_{i=1}^{N}w_{ik}s_{i}(t)+w_{kk}\\Delta s_{k}^{2}(t)\\right]+\\Delta s_{k}(t)\\theta_{k}\n",
    "\\end{split}\n",
    "\\end{equation}\n",
    "where $\\epsilon_{k}$ denotes the vector with $k_{th}$ entry equal to 1.\n",
    "Given that $w_{ij}=w_{ji}$,\n",
    "$$\\Delta E=-\\Delta s_{k}(t)\\left(\\sum_{j=1}^{N}w_{kj}s_{j}(t)-\\theta_{k}\\right)-\\frac{1}{2}w_{kk}\\Delta s_{k}^{2}(t)\n",
    "$$\n",
    "Note that$\\Delta s_{k}(t)\\left(\\sum_{j=1}^{N}w_{kj}s_{j}(t)-\\theta_{k}\\right)\\geq0$ and that $w_{kk}\\geq0$, we obtain:\n",
    "$$\\Delta E\\leq-\\frac{1}{2}w_{kk}\\Delta s_{k}^{2}(t)\\leq 0$$\n",
    "Hence, E is monotonically decreasing. \n",
    "\n",
    "Thus, we have the conclusion that the energy of the network will converge to a local minimum after several iterations. "
   ]
  },
  {
   "cell_type": "markdown",
   "metadata": {},
   "source": [
    "### A numerical example for convergence"
   ]
  },
  {
   "cell_type": "code",
   "execution_count": 1,
   "metadata": {
    "collapsed": true
   },
   "outputs": [],
   "source": [
    "import numpy as np\n",
    "import random"
   ]
  },
  {
   "cell_type": "code",
   "execution_count": 2,
   "metadata": {},
   "outputs": [],
   "source": [
    "def updateState(state,W,theta,verbose=False):\n",
    "    networkSize=np.shape(state)[0]\n",
    "    if np.shape(state)!=np.shape(theta):\n",
    "        raise(ValueError(\"The shapes of states and thresholds didn't match.\"))\n",
    "    if networkSize!=np.shape(W)[0]:\n",
    "        raise(ValueError(\"The shapes of states and W didn't match.\"))\n",
    "    if np.shape(W)[0]!=np.shape(W)[1]:\n",
    "        raise(ValueError(\"W must be a square matrix.\"))\n",
    "    lastState=None\n",
    "    iteration=0\n",
    "    n=0\n",
    "    k=random.randint(0,networkSize-1)\n",
    "    if verbose:\n",
    "        print(\"Original state:\\n{}\".format(state))\n",
    "    while n<networkSize:\n",
    "        iteration+=1\n",
    "        #lastState=np.array(state,copy=True)\n",
    "        lastState=np.copy(state)\n",
    "        if np.sum(W[k,:]*state)-theta[k]>0:\n",
    "            state[k]=1\n",
    "        elif np.sum(W[k,:]*state)-theta[k]<0:\n",
    "            state[k]=-1\n",
    "        else:\n",
    "            state[k]=0\n",
    "        if type(lastState)==type(None) or np.any(lastState!=state):\n",
    "            n=0\n",
    "        else:\n",
    "            n+=1\n",
    "        if verbose:\n",
    "            print(\"Node number {} has been updated at epoch {}.\".format(k,iteration))\n",
    "            print(\"New state:\\n{}\".format(state))\n",
    "        if k<networkSize-1:\n",
    "            k+=1\n",
    "        else:\n",
    "            k=0"
   ]
  },
  {
   "cell_type": "code",
   "execution_count": 3,
   "metadata": {},
   "outputs": [
    {
     "name": "stdout",
     "output_type": "stream",
     "text": [
      "Original state:\n",
      "[ 1 -1 -1 -1]\n",
      "Node number 3 has been updated at epoch 1.\n",
      "New state:\n",
      "[ 1 -1 -1 -1]\n",
      "Node number 0 has been updated at epoch 2.\n",
      "New state:\n",
      "[-1 -1 -1 -1]\n",
      "Node number 1 has been updated at epoch 3.\n",
      "New state:\n",
      "[-1 -1 -1 -1]\n",
      "Node number 2 has been updated at epoch 4.\n",
      "New state:\n",
      "[-1 -1 -1 -1]\n",
      "Node number 3 has been updated at epoch 5.\n",
      "New state:\n",
      "[-1 -1 -1 -1]\n",
      "Node number 0 has been updated at epoch 6.\n",
      "New state:\n",
      "[-1 -1 -1 -1]\n"
     ]
    }
   ],
   "source": [
    "initState=np.array([1,-1,-1,-1])\n",
    "W=np.array([[0,2,2,2],[2,0,2,2],[2,2,0,2],[2,2,2,0]])\n",
    "theta=np.array([1,2,3,4])\n",
    "updateState(initState,W,theta,verbose=True)"
   ]
  },
  {
   "cell_type": "code",
   "execution_count": 4,
   "metadata": {},
   "outputs": [
    {
     "name": "stdout",
     "output_type": "stream",
     "text": [
      "Original state:\n",
      "[ 1  1  1 -1]\n",
      "Node number 0 has been updated at epoch 1.\n",
      "New state:\n",
      "[ 1  1  1 -1]\n",
      "Node number 1 has been updated at epoch 2.\n",
      "New state:\n",
      "[ 1  0  1 -1]\n",
      "Node number 2 has been updated at epoch 3.\n",
      "New state:\n",
      "[ 1  0 -1 -1]\n",
      "Node number 3 has been updated at epoch 4.\n",
      "New state:\n",
      "[ 1  0 -1 -1]\n",
      "Node number 0 has been updated at epoch 5.\n",
      "New state:\n",
      "[-1  0 -1 -1]\n",
      "Node number 1 has been updated at epoch 6.\n",
      "New state:\n",
      "[-1 -1 -1 -1]\n",
      "Node number 2 has been updated at epoch 7.\n",
      "New state:\n",
      "[-1 -1 -1 -1]\n",
      "Node number 3 has been updated at epoch 8.\n",
      "New state:\n",
      "[-1 -1 -1 -1]\n",
      "Node number 0 has been updated at epoch 9.\n",
      "New state:\n",
      "[-1 -1 -1 -1]\n",
      "Node number 1 has been updated at epoch 10.\n",
      "New state:\n",
      "[-1 -1 -1 -1]\n"
     ]
    }
   ],
   "source": [
    "initState=np.array([1,1,1,-1])\n",
    "updateState(initState,W,theta,verbose=True)"
   ]
  },
  {
   "cell_type": "markdown",
   "metadata": {},
   "source": [
    "### Design $W$\n",
    "#### Hebb\n",
    "#### Pseudo Inverse\n",
    "Given $M$ linear independent samples $\\begin{bmatrix}X_{1}&X_{2}&\\cdots&X_{M}\\end{bmatrix}$"
   ]
  },
  {
   "cell_type": "code",
   "execution_count": null,
   "metadata": {
    "collapsed": true
   },
   "outputs": [],
   "source": []
  }
 ],
 "metadata": {
  "kernelspec": {
   "display_name": "Python 3",
   "language": "python",
   "name": "python3"
  },
  "language_info": {
   "codemirror_mode": {
    "name": "ipython",
    "version": 3
   },
   "file_extension": ".py",
   "mimetype": "text/x-python",
   "name": "python",
   "nbconvert_exporter": "python",
   "pygments_lexer": "ipython3",
   "version": "3.5.2"
  }
 },
 "nbformat": 4,
 "nbformat_minor": 2
}
