{
 "cells": [
  {
   "cell_type": "markdown",
   "metadata": {},
   "source": [
    "# SimpleQA\n",
    "\n",
    "## References\n",
    "[Network Structure explanation](http://edu.dataguru.cn/thread-643001-1-1.html)\n",
    "\n",
    "[Dataset](https://github.com/shuzi/insuranceQA)"
   ]
  },
  {
   "cell_type": "code",
   "execution_count": 1,
   "metadata": {
    "collapsed": true
   },
   "outputs": [],
   "source": [
    "import tensorflow as tf\n",
    "import numpy"
   ]
  },
  {
   "cell_type": "code",
   "execution_count": null,
   "metadata": {
    "collapsed": true
   },
   "outputs": [],
   "source": [
    "def Model():\n",
    "    def __init__(seqLength,batchSize=5,vecDim,hlSize)\n",
    "        with tf.name_scope(\"ModelScope\"):\n",
    "            self.inputQ=tf.placeholder(dtype=tf.float32,shape=[batchSize,seqLength,vecDim],name=\"Q\")\n",
    "            self.inputA=tf.placeholder(dtype=tf.float32,shape=[batchSize,seqLength,vecDim],name=\"A\")\n",
    "            W_HL=tf.get_variable(dtype=tf.float32,shape=[vecDim,hlSize])\n",
    "            Q=tf.matmul(self.inputQ,W_HL)#[batchSize,seqLength,hlSize]\n",
    "            A=tf.matmul(self.inputQ,W_HL)#[batchSize,seqLength,hlSize]\n",
    "            #Add a dimension for channel\n",
    "            #[batch, in_height, in_width, in_channels]\n",
    "            Q=tf.reshape(tensor=Q,shape=[batchSize,seqLength,hlSize,1])\n",
    "            A=tf.reshape(tensor=A,shape=[batchSize,seqLength,hlSize,1])\n",
    "            tf.nn.conv2d()"
   ]
  }
 ],
 "metadata": {
  "kernelspec": {
   "display_name": "Python 3",
   "language": "python",
   "name": "python3"
  },
  "language_info": {
   "codemirror_mode": {
    "name": "ipython",
    "version": 3
   },
   "file_extension": ".py",
   "mimetype": "text/x-python",
   "name": "python",
   "nbconvert_exporter": "python",
   "pygments_lexer": "ipython3",
   "version": "3.5.2"
  }
 },
 "nbformat": 4,
 "nbformat_minor": 2
}
