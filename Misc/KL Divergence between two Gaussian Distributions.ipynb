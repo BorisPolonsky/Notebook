{
 "cells": [
  {
   "cell_type": "markdown",
   "metadata": {},
   "source": [
    "# KL Divergence between two Gaussian Distributions\n",
    "In variational autoencoders, the loss function defined on the latent variable contains a term for KL divergence between two distributions. This notebooks aims to walk through the calculation taking the commonly used Gaussian Distrubiton as Example.\n",
    "\n",
    "## Problem Formulation\n",
    "Assume we have two probability distributions\n",
    "* $P(x)\\sim \\mathcal{N}(\\mu_{1},\\sigma_{1})$\n",
    "* $Q(x)\\sim \\mathcal{N}(\\mu_{2},\\sigma_{2})$\n",
    "\n",
    "We want to calculate the KL-Divergence between $P$ and $Q$, defined as\n",
    "$$D_{KL}(P,Q)=\\int_{-\\infty}^{+\\infty}P(x)\\log\\frac{P(x)}{Q(x)} \\mathrm{d}x$$\n",
    "\n",
    "(This example uses the natural log with base $e$)"
   ]
  },
  {
   "cell_type": "markdown",
   "metadata": {},
   "source": [
    "Given $\\int_{-\\infty}^{+\\infty}P(x)\\log\\frac{P(x)}{Q(x)} \\mathrm{d}x =\\int_{-\\infty}^{+\\infty}P(x)\\log P(x) \\mathrm{d}x - \\int_{-\\infty}^{+\\infty}P(x)\\log Q(x) \\mathrm{d}x$, calculating the term $\\int_{-\\infty}^{+\\infty}P(x)\\log Q(x) \\mathrm{d}x$ will be sufficient for this problem."
   ]
  },
  {
   "cell_type": "markdown",
   "metadata": {},
   "source": [
    "$$\\int_{-\\infty}^{+\\infty}P(x)\\log Q(x) \\mathrm{d}x=\\int_{-\\infty}^{+\\infty}P(X)\\log\\left[\\frac{1}{\\sqrt{2\\pi{\\sigma_{2}}^{2}}}\n",
    "e^{-\\frac{(x-\\mu_{2})^{2}}{2{\\sigma_{2}}^{2}}}\\right]\\mathrm{d}x\\\\\n",
    "=\\int_{-\\infty}^{+\\infty}P(x)\\left[\\log\\frac{1}{\\sqrt{2\\pi{\\sigma_{2}}^{2}}}-\\frac{(x-\\mu_{2})^{2}}{2{\\sigma_{2}}^{2}}\\right]\\mathrm{d}x\\\\\n",
    "=-\\frac{1}{2}\\log 2\\pi{\\sigma_{2}}^{2}\\int_{-\\infty}^{+\\infty}P(x)\\mathrm{d}x - \\frac{1}{2{\\sigma_{2}}^{2}}\\int_{-\\infty}^{+\\infty}P(x)(x-\\mu_{2})^{2}\\mathrm{d}x\\\\\n",
    "=-\\frac{1}{2}\\log 2\\pi{\\sigma_{2}}^{2} - \\frac{1}{2{\\sigma_{2}}^{2}}\\int_{-\\infty}^{+\\infty}P(x)\\left(x^{2}-2\\mu_{2}x +{\\mu_{2}}^{2}\\right)\\mathrm{d}x\\\\\n",
    "=-\\frac{1}{2}\\log 2\\pi{\\sigma_{2}}^{2} - \\frac{1}{2{\\sigma_{2}}^{2}}{\\mathbb{E}_{X\\sim P(x)}}\\left[X^{2}-2\\mu_{2}X +{\\mu_{2}}^{2}\\right]$$"
   ]
  },
  {
   "cell_type": "markdown",
   "metadata": {},
   "source": [
    "Note that $\\mathbb{E}(X^{2})=\\mathbb{D}(X)+\\mathbb{E}^{2}(X)$, we obtain\n",
    "$${\\mathbb{E}_{X\\sim P(x)}}\\left[X^{2}\\right]={\\sigma_{1}}^{2}+{\\mu_{1}}^{2}$$"
   ]
  },
  {
   "cell_type": "markdown",
   "metadata": {},
   "source": [
    "Hence $$\\int_{-\\infty}^{+\\infty}P(x)\\log Q(x) \\mathrm{d}x = \n",
    "-\\frac{1}{2}\\log 2\\pi{\\sigma_{2}}^{2} - \\frac{1}{2{\\sigma_{2}}^{2}}\\left({\\sigma_{1}}^{2}+{\\mu_{1}}^{2}-2\\mu_{1}\\mu_{2}+{\\mu_{2}}^{2}\\right)\\\\\n",
    "= -\\frac{1}{2}\\log 2\\pi{\\sigma_{2}}^{2} - \\frac{1}{2{\\sigma_{2}}^{2}}\\left[{\\sigma_{1}}^{2}+(\\mu_{1}-\\mu_{2})^{2}\\right]$$"
   ]
  },
  {
   "cell_type": "markdown",
   "metadata": {},
   "source": [
    "And finally\n",
    "$$D_{KL}(P,Q)=\\log \\frac{\\sigma_{2}}{\\sigma_{1}} - \\frac{1}{2} + \\frac{1}{2{\\sigma_{2}}^{2}}\\left[{\\sigma_{1}}^{2}+(\\mu_{1}-\\mu_{2})^{2}\\right]$$"
   ]
  },
  {
   "cell_type": "code",
   "execution_count": null,
   "metadata": {
    "collapsed": true
   },
   "outputs": [],
   "source": []
  }
 ],
 "metadata": {
  "kernelspec": {
   "display_name": "Python 3",
   "language": "python",
   "name": "python3"
  },
  "language_info": {
   "codemirror_mode": {
    "name": "ipython",
    "version": 3
   },
   "file_extension": ".py",
   "mimetype": "text/x-python",
   "name": "python",
   "nbconvert_exporter": "python",
   "pygments_lexer": "ipython3",
   "version": "3.6.9"
  }
 },
 "nbformat": 4,
 "nbformat_minor": 1
}
