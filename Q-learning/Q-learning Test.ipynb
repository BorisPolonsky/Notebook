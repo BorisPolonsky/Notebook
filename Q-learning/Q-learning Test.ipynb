{
 "cells": [
  {
   "cell_type": "markdown",
   "metadata": {},
   "source": [
    "# Q learning\n",
    "## Brief\n",
    "Suppose we have 5 rooms in a building connected by doors as shown in the figure below.  We'll number each room 0 through 4.  The outside of the building can be thought of as one big room (5).  Notice that doors 1 and 4 lead into the building from room 5 (outside). For this example, we'd like to put an agent in any room, and from that room, go outside the building (this will be our target room). In other words, the goal room is number 5. \n",
    "### Map\n",
    "![map](map.gif)\n",
    "### Graph\n",
    "![Graph](graph.gif)\n",
    "### Reference\n",
    "[Reference](http://mnemstudio.org/path-finding-q-learning-tutorial.htm)"
   ]
  },
  {
   "cell_type": "markdown",
   "metadata": {},
   "source": [
    "## Import"
   ]
  },
  {
   "cell_type": "code",
   "execution_count": 1,
   "metadata": {
    "collapsed": true
   },
   "outputs": [],
   "source": [
    "import numpy as np\n",
    "import random"
   ]
  },
  {
   "cell_type": "markdown",
   "metadata": {},
   "source": [
    "## Initialize"
   ]
  },
  {
   "cell_type": "code",
   "execution_count": 2,
   "metadata": {},
   "outputs": [
    {
     "name": "stdout",
     "output_type": "stream",
     "text": [
      "Q:\n",
      "[[ 0.  0.  0.  0.  0.  0.]\n",
      " [ 0.  0.  0.  0.  0.  0.]\n",
      " [ 0.  0.  0.  0.  0.  0.]\n",
      " [ 0.  0.  0.  0.  0.  0.]\n",
      " [ 0.  0.  0.  0.  0.  0.]\n",
      " [ 0.  0.  0.  0.  0.  0.]]\n",
      "R:\n",
      "[[ -1  -1  -1  -1   0  -1]\n",
      " [ -1  -1  -1   0  -1 100]\n",
      " [ -1  -1  -1   0  -1  -1]\n",
      " [ -1   0   0  -1   0  -1]\n",
      " [  0  -1  -1   0  -1 100]\n",
      " [ -1   0  -1  -1   0 100]]\n"
     ]
    }
   ],
   "source": [
    "Q=np.zeros([6,6])\n",
    "R=np.array([[-1,-1,-1,-1,0,-1],\n",
    "           [-1,-1,-1,0,-1,100],\n",
    "           [-1,-1,-1,0,-1,-1],\n",
    "           [-1,0,0,-1,0,-1],\n",
    "           [0,-1,-1,0,-1,100],\n",
    "            [-1,0,-1,-1,0,100]])\n",
    "print(\"Q:\\n{}\\nR:\\n{}\".format(Q,R))"
   ]
  },
  {
   "cell_type": "markdown",
   "metadata": {},
   "source": [
    "## Training #1"
   ]
  },
  {
   "cell_type": "code",
   "execution_count": 3,
   "metadata": {},
   "outputs": [
    {
     "name": "stdout",
     "output_type": "stream",
     "text": [
      "At episode 2\n",
      "Q:\n",
      "[[   0.    0.    0.    0.    0.    0.]\n",
      " [   0.    0.    0.    0.    0.  100.]\n",
      " [   0.    0.    0.    0.    0.    0.]\n",
      " [   0.    0.    0.    0.    0.    0.]\n",
      " [   0.    0.    0.    0.    0.  100.]\n",
      " [   0.    0.    0.    0.    0.    0.]]\n",
      "At episode 4\n",
      "Q:\n",
      "[[   0.     0.     0.     0.     0.     0. ]\n",
      " [   0.     0.     0.     0.     0.   100. ]\n",
      " [   0.     0.     0.     0.8    0.     0. ]\n",
      " [   0.     4.     0.     0.     4.     0. ]\n",
      " [   0.     0.     0.     0.     0.   100. ]\n",
      " [   0.     0.     0.     0.     0.     0. ]]\n",
      "At episode 6\n",
      "Q:\n",
      "[[   0.     0.     0.     0.     4.     0. ]\n",
      " [   0.     0.     0.     0.     0.   100. ]\n",
      " [   0.     0.     0.     0.8    0.     0. ]\n",
      " [   0.     4.     2.4    0.     4.     0. ]\n",
      " [   3.2    0.     0.     0.8    0.   100. ]\n",
      " [   0.     0.     0.     0.     0.     0. ]]\n",
      "At episode 8\n",
      "Q:\n",
      "[[   0.     0.     0.     0.     4.     0. ]\n",
      " [   0.     0.     0.     0.     0.   100. ]\n",
      " [   0.     0.     0.     0.8    0.     0. ]\n",
      " [   0.     4.     2.4    0.     4.     0. ]\n",
      " [   3.2    0.     0.     0.8    0.   100. ]\n",
      " [   0.     0.     0.     0.     0.     0. ]]\n",
      "At episode 10\n",
      "Q:\n",
      "[[   0.     0.     0.     0.     4.     0. ]\n",
      " [   0.     0.     0.     0.     0.   100. ]\n",
      " [   0.     0.     0.     0.8    0.     0. ]\n",
      " [   0.     4.     2.4    0.     4.     0. ]\n",
      " [   3.2    0.     0.     0.8    0.   100. ]\n",
      " [   0.     0.     0.     0.     0.     0. ]]\n",
      "At episode 12\n",
      "Q:\n",
      "[[   0.     0.     0.     0.     4.     0. ]\n",
      " [   0.     0.     0.     0.8    0.   100. ]\n",
      " [   0.     0.     0.     0.8    0.     0. ]\n",
      " [   0.     4.     2.4    0.     4.     0. ]\n",
      " [   3.2    0.     0.     0.8    0.   100. ]\n",
      " [   0.     0.     0.     0.     0.     0. ]]\n",
      "At episode 14\n",
      "Q:\n",
      "[[   0.     0.     0.     0.     4.     0. ]\n",
      " [   0.     0.     0.     0.8    0.   100. ]\n",
      " [   0.     0.     0.     0.8    0.     0. ]\n",
      " [   0.     4.     2.4    0.     4.     0. ]\n",
      " [   3.2    0.     0.     0.8    0.   100. ]\n",
      " [   0.     0.     0.     0.     0.     0. ]]\n",
      "At episode 16\n",
      "Q:\n",
      "[[   0.     0.     0.     0.     4.     0. ]\n",
      " [   0.     0.     0.     0.8    0.   100. ]\n",
      " [   0.     0.     0.     0.8    0.     0. ]\n",
      " [   0.     4.     2.4    0.     4.     0. ]\n",
      " [   3.2    0.     0.     0.8    0.   100. ]\n",
      " [   0.     0.     0.     0.     0.     0. ]]\n",
      "At episode 18\n",
      "Q:\n",
      "[[   0.     0.     0.     0.     4.     0. ]\n",
      " [   0.     0.     0.     0.8    0.   100. ]\n",
      " [   0.     0.     0.     0.8    0.     0. ]\n",
      " [   0.     4.     2.4    0.     4.     0. ]\n",
      " [   3.2    0.     0.     0.8    0.   100. ]\n",
      " [   0.     0.     0.     0.     0.     0. ]]\n",
      "At episode 20\n",
      "Q:\n",
      "[[   0.     0.     0.     0.     4.     0. ]\n",
      " [   0.     0.     0.     0.8    0.   100. ]\n",
      " [   0.     0.     0.     0.8    0.     0. ]\n",
      " [   0.     4.     2.4    0.     4.     0. ]\n",
      " [   3.2    0.     0.     0.8    0.   100. ]\n",
      " [   0.     0.     0.     0.     0.     0. ]]\n"
     ]
    }
   ],
   "source": [
    "n_episode=20\n",
    "gamma=0.8\n",
    "for episode in range(n_episode):\n",
    "    state=random.randint(0,5)\n",
    "    while state!=5:\n",
    "        #Q(state, action) = R(state, action) + Gamma * Max[Q(next state, all actions)]\n",
    "        actionSet=np.argwhere(R[state]>=0)\n",
    "        action=actionSet[random.randint(0,np.shape(actionSet)[0]-1),0]\n",
    "        Q[state,action]=R[state,action]+gamma*np.argmax(Q[action])\n",
    "        state=action\n",
    "    if (episode+1)%2==0:\n",
    "        print(\"At episode {}\\nQ:\\n{}\".format(episode+1,Q))"
   ]
  },
  {
   "cell_type": "markdown",
   "metadata": {},
   "source": [
    "## Online Inference"
   ]
  },
  {
   "cell_type": "code",
   "execution_count": 4,
   "metadata": {},
   "outputs": [
    {
     "name": "stdout",
     "output_type": "stream",
     "text": [
      "Initial state:0\n",
      "Moving from room 0 to room 4.\n",
      "Moving from room 4 to room 5.\n",
      "Initial state:1\n",
      "Moving from room 1 to room 5.\n",
      "Initial state:2\n",
      "Moving from room 2 to room 3.\n",
      "Moving from room 3 to room 1.\n",
      "Moving from room 1 to room 5.\n",
      "Initial state:3\n",
      "Moving from room 3 to room 1.\n",
      "Moving from room 1 to room 5.\n",
      "Initial state:4\n",
      "Moving from room 4 to room 5.\n"
     ]
    }
   ],
   "source": [
    "for state in range(5):\n",
    "    print(\"Initial state:{}\".format(state))\n",
    "    while state!=5:\n",
    "        #Didn't bother to validate the action\n",
    "        actionSet=np.argwhere(Q[state]==np.max(Q[state]))\n",
    "        action=actionSet[random.randint(0,np.shape(actionSet)[0]-1),0]\n",
    "        print(\"Moving from room {} to room {}.\".format(state,action))\n",
    "        state=action"
   ]
  },
  {
   "cell_type": "markdown",
   "metadata": {},
   "source": [
    "## Training #2"
   ]
  },
  {
   "cell_type": "code",
   "execution_count": 5,
   "metadata": {},
   "outputs": [
    {
     "name": "stdout",
     "output_type": "stream",
     "text": [
      "At episode 2\n",
      "Q:\n",
      "[[  0.   0.   0.   0.   0.   0.]\n",
      " [  0.   0.   0.   0.   0.   0.]\n",
      " [  0.   0.   0.   0.   0.   0.]\n",
      " [  0.   0.   0.   0.   0.   0.]\n",
      " [  0.   0.   0.   0.   0.  20.]\n",
      " [  0.   0.   0.   0.   0.   0.]]\n",
      "At episode 4\n",
      "Q:\n",
      "[[  0.     0.     0.     0.     1.44   0.  ]\n",
      " [  0.     0.     0.     0.64   0.     0.  ]\n",
      " [  0.     0.     0.     0.64   0.     0.  ]\n",
      " [  0.     0.     0.     0.     1.44   0.  ]\n",
      " [  0.     0.     0.     0.64   0.    48.8 ]\n",
      " [  0.     0.     0.     0.     0.     0.  ]]\n",
      "At episode 6\n",
      "Q:\n",
      "[[  0.      0.      0.      0.      1.44    0.   ]\n",
      " [  0.      0.      0.      0.64    0.     20.   ]\n",
      " [  0.      0.      0.      1.152   0.      0.   ]\n",
      " [  0.      0.48    0.48    0.      1.952   0.   ]\n",
      " [  0.      0.      0.      1.152   0.     59.04 ]\n",
      " [  0.      0.      0.      0.      0.      0.   ]]\n",
      "At episode 8\n",
      "Q:\n",
      "[[  0.        0.        0.        0.        1.952     0.     ]\n",
      " [  0.        0.        0.        0.64      0.       48.8    ]\n",
      " [  0.        0.        0.        1.5616    0.        0.     ]\n",
      " [  0.        1.7472    0.864     0.        1.952     0.     ]\n",
      " [  0.        0.        0.        1.88928   0.       59.04   ]\n",
      " [  0.        0.        0.        0.        0.        0.     ]]\n",
      "At episode 10\n",
      "Q:\n",
      "[[  0.         0.         0.         0.         1.952      0.      ]\n",
      " [  0.         0.         0.         0.64       0.        67.232   ]\n",
      " [  0.         0.         0.         1.40928    0.         0.      ]\n",
      " [  0.         2.558208   0.864      0.         1.952      0.      ]\n",
      " [  0.         0.         0.         1.88928    0.        59.04    ]\n",
      " [  0.         0.         0.         0.         0.         0.      ]]\n",
      "At episode 12\n",
      "Q:\n",
      "[[  0.           0.           0.           0.           2.68928      0.        ]\n",
      " [  0.           0.           0.           0.6976       0.          73.7856    ]\n",
      " [  0.           0.           0.           1.11195136   0.           0.        ]\n",
      " [  0.           3.2618025    1.41696      0.           2.68928      0.        ]\n",
      " [  1.152        0.           0.           1.9771392    0.          67.232     ]\n",
      " [  0.           0.           0.           0.           0.           0.        ]]\n",
      "At episode 14\n",
      "Q:\n",
      "[[  0.           0.           0.           0.           3.32891136   0.        ]\n",
      " [  0.           0.           0.           0.6976       0.          79.02848   ]\n",
      " [  0.           0.           0.           1.04956109   0.           0.        ]\n",
      " [  0.           3.409442     1.613568     0.           2.68928      0.        ]\n",
      " [  1.88928      0.           0.           1.74171136   0.          67.232     ]\n",
      " [  0.           0.           0.           0.           0.           0.        ]]\n",
      "At episode 16\n",
      "Q:\n",
      "[[  0.           0.           0.           0.           3.72512209   0.        ]\n",
      " [  0.           0.           0.           0.6976       0.          83.222784  ]\n",
      " [  0.           0.           0.           0.9597191    0.           0.        ]\n",
      " [  0.           3.5275536    1.7708544    0.           2.68928      0.        ]\n",
      " [  2.66312909   0.           0.           1.74171136   0.          73.7856    ]\n",
      " [  0.           0.           0.           0.           0.           0.        ]]\n",
      "At episode 18\n",
      "Q:\n",
      "[[  0.           0.           0.           0.           3.88741001   0.        ]\n",
      " [  0.           0.           0.           0.71808      0.          86.5782272 ]\n",
      " [  0.           0.           0.           0.92777528   0.           0.        ]\n",
      " [  0.           3.62204288   1.7708544    0.           3.1611392    0.        ]\n",
      " [  2.98009767   0.           0.           1.55336909   0.          79.02848   ]\n",
      " [  0.           0.           0.           0.           0.           0.        ]]\n",
      "At episode 20\n",
      "Q:\n",
      "[[  0.           0.           0.           0.           3.90992801   0.        ]\n",
      " [  0.           0.           0.           0.734464     0.          89.26258176]\n",
      " [  0.           0.           0.           0.92777528   0.           0.        ]\n",
      " [  0.           3.6976343    1.7708544    0.           3.1611392    0.        ]\n",
      " [  2.98009767   0.           0.           1.55336909   0.          83.222784  ]\n",
      " [  0.           0.           0.           0.           0.           0.        ]]\n"
     ]
    }
   ],
   "source": [
    "n_episode=20\n",
    "alpha=0.2\n",
    "gamma=0.8\n",
    "Q=np.zeros([6,6])\n",
    "for episode in range(n_episode):\n",
    "    state=random.randint(0,5)\n",
    "    while state!=5:\n",
    "        #Q(S,A) ← (1-α)*Q(S,A) + α*[R + γ*maxQ(S',a)] \n",
    "        actionSet=np.argwhere(R[state]>=0)\n",
    "        action=actionSet[random.randint(0,np.shape(actionSet)[0]-1),0]\n",
    "        Q[state,action]=(1-alpha)*Q[state,action]+alpha*(R[state,action]+gamma*np.argmax(Q[action]))\n",
    "        state=action\n",
    "    if (episode+1)%2==0:\n",
    "        print(\"At episode {}\\nQ:\\n{}\".format(episode+1,Q))"
   ]
  },
  {
   "cell_type": "markdown",
   "metadata": {},
   "source": [
    "## Online inference"
   ]
  },
  {
   "cell_type": "code",
   "execution_count": 6,
   "metadata": {},
   "outputs": [
    {
     "name": "stdout",
     "output_type": "stream",
     "text": [
      "Initial state:0\n",
      "Moving from room 0 to room 4.\n",
      "Moving from room 4 to room 5.\n",
      "Initial state:1\n",
      "Moving from room 1 to room 5.\n",
      "Initial state:2\n",
      "Moving from room 2 to room 3.\n",
      "Moving from room 3 to room 1.\n",
      "Moving from room 1 to room 5.\n",
      "Initial state:3\n",
      "Moving from room 3 to room 1.\n",
      "Moving from room 1 to room 5.\n",
      "Initial state:4\n",
      "Moving from room 4 to room 5.\n"
     ]
    }
   ],
   "source": [
    "for state in range(5):\n",
    "    print(\"Initial state:{}\".format(state))\n",
    "    while state!=5:\n",
    "        #Didn't bother to validate the action\n",
    "        actionSet=np.argwhere(Q[state]==np.max(Q[state]))\n",
    "        action=actionSet[random.randint(0,np.shape(actionSet)[0]-1),0]\n",
    "        print(\"Moving from room {} to room {}.\".format(state,action))\n",
    "        state=action"
   ]
  }
 ],
 "metadata": {
  "kernelspec": {
   "display_name": "Python 3",
   "language": "python",
   "name": "python3"
  },
  "language_info": {
   "codemirror_mode": {
    "name": "ipython",
    "version": 3
   },
   "file_extension": ".py",
   "mimetype": "text/x-python",
   "name": "python",
   "nbconvert_exporter": "python",
   "pygments_lexer": "ipython3",
   "version": "3.5.2"
  }
 },
 "nbformat": 4,
 "nbformat_minor": 2
}
