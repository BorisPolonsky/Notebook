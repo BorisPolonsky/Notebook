{
 "cells": [
  {
   "cell_type": "markdown",
   "metadata": {},
   "source": [
    "# 100 Prisoners Problem"
   ]
  },
  {
   "cell_type": "markdown",
   "metadata": {},
   "source": [
    "## Introduction\n",
    "In the 100 prisoners problem each prisoner has to find his number in one of 100 drawers, but may open only 50 of the drawers.\n",
    "The 100 prisoners problem is a mathematical problem in probability theory and combinatorics. In this problem, 100 numbered prisoners must find their own numbers in one of 100 drawers in order to survive. The rules state that each prisoner may open only 50 drawers and cannot communicate with other prisoners. At first glance, the situation appears hopeless, but a clever strategy offers the prisoners a realistic chance of survival. Danish computer scientist Peter Bro Miltersen first proposed the problem in 2003.\n",
    "\n",
    "The 100 prisoners problem has different renditions in the literature. The following version is by Philippe [Flajolet and Robert Sedgewick](https://en.wikipedia.org/wiki/100_prisoners_problem):\n",
    "```\n",
    "The director of a prison offers 100 death row prisoners, who are numbered from 1 to 100, a last chance. A room contains a cupboard with 100 drawers. The director randomly puts one prisoner's number in each closed drawer. The prisoners enter the room, one after another. Each prisoner may open and look into 50 drawers in any order. The drawers are closed again afterwards. If, during this search, every prisoner finds his number in one of the drawers, all prisoners are pardoned. If just one prisoner does not find his number, all prisoners die. Before the first prisoner enters the room, the prisoners may discuss strategy—but may not communicate once the first prisoner enters to look in the drawers. What is the prisoners' best strategy?\n",
    "```"
   ]
  },
  {
   "cell_type": "markdown",
   "metadata": {},
   "source": [
    "## Strategy\n",
    "Surprisingly, there is a strategy that provides a survival probability of more than 30%. The key to success is that the prisoners do not have to decide beforehand which drawers to open. Each prisoner can use the information gained from the contents of every drawer he already opened to help decide which one to open next. Another important observation is that this way the success of one prisoner is not independent of the success of the other prisoners, because they all depend on the way the numbers are distributed.\n",
    "\n",
    "To describe the strategy, not only the prisoners, but also the drawers are numbered from 1 to 100, for example row by row starting with the top left drawer. The strategy is now as follows:\n",
    "\n",
    "1. Each prisoner first opens the drawer with his own number.\n",
    "2. If this drawer contains his number he is done and was successful.\n",
    "3. Otherwise, the drawer contains the number of another prisoner and he next opens the drawer with this number.\n",
    "4. The prisoner repeats steps 2 and 3 until he finds his own number or has opened 50 drawers.\n",
    "\n",
    "By starting with his own number, the prisoner guarantees he is on a sequence of boxes eventually containing his number. The only question is whether this sequence is longer than 50 boxes."
   ]
  },
  {
   "cell_type": "markdown",
   "metadata": {},
   "source": [
    "## Simulation"
   ]
  },
  {
   "cell_type": "code",
   "execution_count": null,
   "metadata": {},
   "outputs": [],
   "source": [
    "%matplotlib notebook\n",
    "import matplotlib.pyplot as plt\n",
    "import random"
   ]
  },
  {
   "cell_type": "markdown",
   "metadata": {},
   "source": [
    "Possible issue: The randomization of cupboard may be biased."
   ]
  },
  {
   "cell_type": "code",
   "execution_count": null,
   "metadata": {},
   "outputs": [],
   "source": [
    "def arrange_event(n_prisoners=100):\n",
    "    if (n_prisoners % 2) != 0 or n_prisoners <=0:\n",
    "        raise ValueError(\"Number of prisoners must be a postive and even number.\")\n",
    "    drawer = list(range(n_prisoners))\n",
    "    random.shuffle(drawer)\n",
    "    return drawer\n",
    "\n",
    "def strategy(prisoner_no, drawer, num_of_chance):\n",
    "    test_number = prisoner_no\n",
    "    for i in range(num_of_chance):\n",
    "        test_number = drawer[test_number]\n",
    "        yield test_number\n",
    "\n",
    "def simulation(n_episode, n_prisoners, strategy):\n",
    "    if (n_prisoners % 2) != 0 or n_prisoners <=0:\n",
    "        raise ValueError(\"Number of prisoners must be a postive and even number.\")\n",
    "    survival_n = 0\n",
    "    for episode_i in range(n_episode):\n",
    "        group_survival = True\n",
    "        drawer = arrange_event(n_prisoners)\n",
    "        for prisoner_no in range(n_prisoners):\n",
    "            individual_survival = False\n",
    "            for number in strategy(prisoner_no, drawer, int(n_prisoners/2)):\n",
    "                if number == prisoner_no:\n",
    "                    individual_survival = True\n",
    "                    break\n",
    "            if not individual_survival:\n",
    "                group_survival = False\n",
    "                break\n",
    "        if group_survival:\n",
    "            survival_n += 1\n",
    "    return survival_n"
   ]
  },
  {
   "cell_type": "code",
   "execution_count": null,
   "metadata": {},
   "outputs": [],
   "source": [
    "num_of_prisoners_list = [100, 500]\n",
    "num_of_episodes_list = [int(1e3)] * len(num_of_prisoners_list)\n",
    "survival_rate = []\n",
    "for num_of_episodes, num_of_prisoners in zip(num_of_episodes_list, num_of_prisoners_list):\n",
    "    survival_n = simulation(num_of_episodes, num_of_prisoners, strategy)\n",
    "    print(\"{} prisoners survived {} out of {} episodes. Rate of survival: {}.\".format(num_of_prisoners, \n",
    "                                                                                     survival_n, \n",
    "                                                                                     num_of_episodes, \n",
    "                                                                                     survival_n/num_of_episodes))\n",
    "    survival_rate.append(survival_n/num_of_episodes)\n",
    "fig = plt.figure(figsize=(8,4))\n",
    "ax = fig.add_subplot(111)\n",
    "xticks = range(len(survival_rate))\n",
    "ax.bar(xticks, survival_rate)\n",
    "ax.set_xticks(xticks)\n",
    "ax.set_xticklabels(num_of_prisoners_list)\n",
    "ax.set_xlabel(\"Number of Prisoners\")\n",
    "ax.set_ylabel(\"Rate of Survival\")\n",
    "ax.set_title(\"Evaluation on Strategy\")\n",
    "fig.show()"
   ]
  },
  {
   "cell_type": "code",
   "execution_count": null,
   "metadata": {},
   "outputs": [],
   "source": []
  }
 ],
 "metadata": {
  "kernelspec": {
   "display_name": "Python 3",
   "language": "python",
   "name": "python3"
  },
  "language_info": {
   "codemirror_mode": {
    "name": "ipython",
    "version": 3
   },
   "file_extension": ".py",
   "mimetype": "text/x-python",
   "name": "python",
   "nbconvert_exporter": "python",
   "pygments_lexer": "ipython3",
   "version": "3.5.2"
  }
 },
 "nbformat": 4,
 "nbformat_minor": 2
}
