{
 "cells": [
  {
   "cell_type": "markdown",
   "metadata": {},
   "source": [
    "# Basic Concepts in Time Series Analysis"
   ]
  },
  {
   "cell_type": "markdown",
   "metadata": {},
   "source": [
    "## Stationary\n",
    "### Brief\n",
    "The basic idea of stationarity is that the probability laws that govern the behavior of the process do not change over time. \n",
    "#### Strict Stationary\n",
    "A time series ${Z_{t}}$ is said to be **strictly stationary** if the joint distribution of $Z_{t_{1}},Z_{t_{2}},\\dots,Z_{t_{n}}$ is the same as that of $Z_{t_{1}-k},Z_{t_{2}-k},\\dots,Z_{t_{n}-k}$ for all choices of natural number $n$, all choices of time points $t_{1},t_{2}, · · · , t_{n}$ and all choices of time lag $k$. \n",
    "####  Weak Stationary\n",
    " A time series $\\{Z_{t}\\}$ is said to be weakly (weak-sense stationarity, wide-sense stationarity (WSS), covariance stationary, second order stationary) if:\n",
    " *  the mean function $\\mu (t)$ is constant over time, and\n",
    " * $\\gamma(t_{1}, t_{2}) = \\gamma(t_{1}-t_{2},0)$ for all times $t$ and lags $k$, where $\\gamma(t_{1},t_{2})$ is the autocovariance function. (l.e. the covariance function depends only on the difference between $t_{1}$ and $t_{2}$)"
   ]
  },
  {
   "cell_type": "code",
   "execution_count": null,
   "metadata": {
    "collapsed": true
   },
   "outputs": [],
   "source": []
  }
 ],
 "metadata": {
  "kernelspec": {
   "display_name": "Python 3",
   "language": "python",
   "name": "python3"
  },
  "language_info": {
   "codemirror_mode": {
    "name": "ipython",
    "version": 3
   },
   "file_extension": ".py",
   "mimetype": "text/x-python",
   "name": "python",
   "nbconvert_exporter": "python",
   "pygments_lexer": "ipython3",
   "version": "3.5.2"
  }
 },
 "nbformat": 4,
 "nbformat_minor": 1
}
