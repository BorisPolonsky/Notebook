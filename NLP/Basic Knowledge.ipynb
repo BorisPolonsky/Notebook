{
 "cells": [
  {
   "cell_type": "markdown",
   "metadata": {},
   "source": [
    "# Note on some terminologies"
   ]
  },
  {
   "cell_type": "markdown",
   "metadata": {},
   "source": [
    "## Perplexity\n",
    "### Brief\n",
    "In natural language processing, perplexity is a way of evaluating language models (a probability distribution over entire sentences or texts).\n",
    "\n",
    "### Definition 1\n",
    "$$PP(S)=P(W_{1}W_{2}\\dots W_{N})^{-\\frac{1}{N}}=\\sqrt[N]{\\frac{1}{P(W_{1}W_{2}\\dots W_{N})}}$$\n",
    "Lower perplexity suggests higher probability of the sentence.\n",
    "In bigram model, we have\n",
    "$$PP(S)=\\sqrt[N]{\\frac{1}{\\prod_{i=1}^{N}P(W_{i}|W_{i-1})}}$$\n",
    "Where $W_{0}$ indicates the START label. \n",
    "\n",
    "Suppose that a fair 10-sided die is rolled for $N$ times, asssume that the results are iid, by definition we have\n",
    "$$PP(S)=\\sqrt[N]{\\frac{1}{\\prod_{i=1}^{N}\\frac{1}{10}}}=10$$. Intuitively, for a language model with a certain perplexity, say, 100, it indicates that at each point there are 100 candidates for its prediction by average. \n",
    "### Definition 2\n",
    "A model of an unknown probability distribution $p$, may be proposed based on a training sample that was drawn from $p$. Given a proposed probability model $q$, one may evaluate $q$ by asking how well it predicts a separate test sample $x_{1}$, $x_{2}$,$\\dots$ , $x_{N}$ also drawn from $p$. The perplexity of the model $q$ is defined as\n",
    "$$b^{-\\frac{1}{N}\\sum_{i=1}^{N}\\log_{b}q(x_{i})}$$, where $b$ is customarily $2$. Better models $q$ of the unknown distribution $p$ will tend to assign higher probabilities $q(x_{i})$ to the test events. Thus, they have lower perplexity: they are less surprised by the test sample.\n",
    "\n",
    "The exponent above may be regarded as the average number of bits needed to represent a test event $x_{i}$ if one uses an optimal code based on $q$. Low-perplexity models do a better job of compressing the test sample, requiring few bits per test element on average because $q(x_{i})$ tends to be high."
   ]
  },
  {
   "cell_type": "markdown",
   "metadata": {},
   "source": [
    "## Kullback–Leibler divergence\n",
    "### Brief\n",
    "In mathematical statistics, the Kullback–Leibler divergence is a measure of how one probability distribution diverges from a second expected probability distribution. In the context of machine learning, $D_{KL}(P‖Q)$ is often called the information gain achieved if $P$ is used instead of $Q$. By analogy with information theory, it is also called the relative entropy of $P$ with respect to $Q$.\n",
    "### Definition\n",
    "#### For DISCRETE probability distributions\n",
    "For discrete probability distributions $P$ and $Q$, the Kullback–Leibler divergence from $Q$ to $P$ is defined to be\n",
    "$$D_{KL}(P||Q)=\\sum_{i} p(i)\\log\\frac{P(i)}{Q(i)}$$\n",
    "In other words, it is the **expectation of the logarithmic difference** between the probabilities $P$ and $Q$, where the expectation is taken using the probabilities $P$. \n",
    "#### For CONTINUOUS probability distributions\n",
    "For distributions $P$ and $Q$ of a continuous random variable, the Kullback–Leibler divergence is defined to be the integral:\n",
    "$$D_{KL}(P||Q)=\\int_{-\\infty}^{\\infty}p(x)\\log\\frac{p(x)}{q(x)}\\mathrm{d}x$$\n",
    "where $p$ and $q$ denote the densities of $P$ and $Q$. \n",
    "### Motivation\n",
    "The Kullback–Leibler divergence can be interpreted as the expected extra message-length per datum that must be communicated if a code that is optimal for a given (wrong) distribution $Q$ is used, compared to using a code based on the true distribution $P$. (See [Kraft–McMillan theorem](https://en.wikipedia.org/wiki/Kraft%E2%80%93McMillan_inequality))\n",
    "$$D_{KL}(P||Q)=-\\sum_{i} p(i)\\log q(i)+\\sum_{i}p(i)\\log p(i)=H(p,q)-H(p)$$\n",
    "where $H(P,Q)$ is the cross entropy of $P$ and $Q$, and $H(P)$ is the entropy of $P$. \n",
    "### Example\n",
    "![Illustration of the Kullback–Leibler (KL) divergence for two normal Gaussian distributions. Note the typical asymmetry for the Kullback–Leibler divergence is clearly visible.](images/KL-Gauss-Example.png)\n",
    "Illustration of the Kullback–Leibler (KL) divergence for two normal Gaussian distributions. Note the typical asymmetry for the Kullback–Leibler divergence is clearly visible."
   ]
  },
  {
   "cell_type": "markdown",
   "metadata": {
    "collapsed": true
   },
   "source": [
    "## TF-IDF \n",
    "TF-IDF is the product of two statistics, term frequency and inverse document frequency. \n",
    "### Multivations\n",
    "#### Term frequency\n",
    "\n",
    "Suppose we have a set of English text documents and wish to determine which document is most relevant to the query \"the brown cow\". A simple way to start out is by eliminating documents that do not contain all three words \"the\", \"brown\", and \"cow\", but this still leaves many documents. To further distinguish them, we might count the number of times each term occurs in each document; the number of times a term occurs in a document is called its term frequency. However, in the case where the length of documents vary greatly, adjustments are often made (see definition below).\n",
    "\n",
    "The first form of term weighting is due to Hans Peter Luhn (1957) and is based on the Luhn Assumption:\n",
    "\n",
    "    The weight of a term that occurs in a document is simply proportional to the term frequency.\n",
    "\n",
    "#### Inverse document frequency\n",
    "\n",
    "Because the term \"the\" is so common, term frequency will tend to incorrectly emphasize documents which happen to use the word \"the\" more frequently, without giving enough weight to the more meaningful terms \"brown\" and \"cow\". The term \"the\" is not a good keyword to distinguish relevant and non-relevant documents and terms, unlike the less common words \"brown\" and \"cow\". Hence an inverse document frequency factor is incorporated which diminishes the weight of terms that occur very frequently in the document set and increases the weight of terms that occur rarely.\n",
    "\n",
    "Karen Spärck Jones (1972) conceived a statistical interpretation of term specificity called Inverse Document Frequency (IDF), which became a cornerstone of term weighting:\n",
    "\n",
    "    The specificity of a term can be quantified as an inverse function of the number of documents in which it occurs.\n",
    "### Definition\n",
    "#### TF\n",
    "$$TF(t,d)=\\frac{\\#t}{len(d)}$$\n",
    "Where \n",
    "* $\\#t$ denotes the number of occurences of term $t$ in document $d$\n",
    "* $len(d)$ denotes the total number of words in document $d$\n",
    "The denominator prevents the index from favoring long documents. \n",
    "\n",
    "(There are other definitions for TF)\n",
    "#### IDF\n",
    "\n",
    "The inverse document frequency is a measure of how much information the word provides, that is, whether the term is common or rare across all documents. The definition is\n",
    "$$IDF=\\log \\frac{\\lvert D\\rvert}{\\lvert\\left\\{d\\in D:t\\in d\\right\\}\\rvert}$$\n",
    "where\n",
    "* $\\lvert D\\rvert$ denotes the total number of documents in the corpus\n",
    "* $\\lvert\\left\\{d\\in D:t\\in d\\right\\}\\rvert$ denotes the number of documents that contains term $t$. If the term is not in the corpus, this will lead to a division-by-zero. It is therefore common to adjust the denominator to $1+\\lvert\\left\\{d\\in D:t\\in d\\right\\}\\rvert$."
   ]
  },
  {
   "cell_type": "markdown",
   "metadata": {
    "collapsed": true
   },
   "source": [
    "# Calinski-Harabarsz Criterion (AKA variance ratio criterion(VAC))\n",
    "[Reference](http://cn.mathworks.com/help/stats/clustering.evaluation.calinskiharabaszevaluation-class.html)"
   ]
  },
  {
   "cell_type": "code",
   "execution_count": null,
   "metadata": {
    "collapsed": true
   },
   "outputs": [],
   "source": []
  }
 ],
 "metadata": {
  "kernelspec": {
   "display_name": "Python 3",
   "language": "python",
   "name": "python3"
  },
  "language_info": {
   "codemirror_mode": {
    "name": "ipython",
    "version": 3
   },
   "file_extension": ".py",
   "mimetype": "text/x-python",
   "name": "python",
   "nbconvert_exporter": "python",
   "pygments_lexer": "ipython3",
   "version": "3.5.2"
  }
 },
 "nbformat": 4,
 "nbformat_minor": 2
}
