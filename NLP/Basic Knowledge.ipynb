{
 "cells": [
  {
   "cell_type": "markdown",
   "metadata": {},
   "source": [
    "# Note on some terminologies"
   ]
  },
  {
   "cell_type": "markdown",
   "metadata": {},
   "source": [
    "## Perplexity\n",
    "### Brief\n",
    "In natural language processing, perplexity is a way of evaluating language models (a probability distribution over entire sentences or texts).\n",
    "\n",
    "### Definition 1\n",
    "$$PP(S)=P(W_{1}W_{2}\\dots W_{N})^{-\\frac{1}{N}}=\\sqrt[N]{\\frac{1}{P(W_{1}W_{2}\\dots W_{N})}}$$\n",
    "Lower perplexity suggests higher probability of the sentence.\n",
    "In bigram model, we have\n",
    "$$PP(S)=\\sqrt[N]{\\frac{1}{\\prod_{i=1}^{N}P(W_{i}|W_{i-1})}}$$\n",
    "Where $W_{0}$ indicates the START label. \n",
    "\n",
    "Suppose that a fair 10-sided die is rolled for $N$ times, asssume that the results are iid, by definition we have\n",
    "$$PP(S)=\\sqrt[N]{\\frac{1}{\\prod_{i=1}^{N}\\frac{1}{10}}}=10$$. Intuitively, for a language model with a certain perplexity, say, 100, it indicates that at each point there are 100 candidates for its prediction by average. \n",
    "### Definition 2\n",
    "A model of an unknown probability distribution $p$, may be proposed based on a training sample that was drawn from $p$. Given a proposed probability model $q$, one may evaluate $q$ by asking how well it predicts a separate test sample $x_{1}$, $x_{2}$,$\\dots$ , $x_{N}$ also drawn from $p$. The perplexity of the model $q$ is defined as\n",
    "$$b^{-\\frac{1}{N}\\sum_{i=1}^{N}\\log_{b}q(x_{i})}$$, where $b$ is customarily $2$. Better models $q$ of the unknown distribution $p$ will tend to assign higher probabilities $q(x_{i})$ to the test events. Thus, they have lower perplexity: they are less surprised by the test sample.\n",
    "\n",
    "The exponent above may be regarded as the average number of bits needed to represent a test event $x_{i}$ if one uses an optimal code based on $q$. Low-perplexity models do a better job of compressing the test sample, requiring few bits per test element on average because $q(x_{i})$ tends to be high."
   ]
  },
  {
   "cell_type": "markdown",
   "metadata": {},
   "source": [
    "## Kullback–Leibler divergence\n",
    "### Brief\n",
    "In mathematical statistics, the Kullback–Leibler divergence is a measure of how one probability distribution diverges from a second expected probability distribution. In the context of machine learning, $D_{KL}(P‖Q)$ is often called the information gain achieved if $P$ is used instead of $Q$. By analogy with information theory, it is also called the relative entropy of $P$ with respect to $Q$.\n",
    "### Definition\n",
    "#### For DISCRETE probability distributions\n",
    "For discrete probability distributions $P$ and $Q$, the Kullback–Leibler divergence from $Q$ to $P$ is defined to be\n",
    "$$D_{KL}(P||Q)=\\sum_{i} p(i)\\log\\frac{P(i)}{Q(i)}$$\n",
    "In other words, it is the **expectation of the logarithmic difference** between the probabilities $P$ and $Q$, where the expectation is taken using the probabilities $P$. \n",
    "#### For CONTINUOUS probability distributions\n",
    "For distributions $P$ and $Q$ of a continuous random variable, the Kullback–Leibler divergence is defined to be the integral:\n",
    "$$D_{KL}(P||Q)=\\int_{-\\infty}^{\\infty}p(x)\\log\\frac{p(x)}{q(x)}\\mathrm{d}x$$\n",
    "where $p$ and $q$ denote the densities of $P$ and $Q$. \n",
    "### Motivation\n",
    "The Kullback–Leibler divergence can be interpreted as the expected extra message-length per datum that must be communicated if a code that is optimal for a given (wrong) distribution $Q$ is used, compared to using a code based on the true distribution $P$. (See [Kraft–McMillan theorem](https://en.wikipedia.org/wiki/Kraft%E2%80%93McMillan_inequality))\n",
    "$$D_{KL}(P||Q)=-\\sum_{i} p(i)\\log q(i)+\\sum_{i}p(i)\\log p(i)=H(p,q)-H(p)$$\n",
    "where $H(P,Q)$ is the cross entropy of $P$ and $Q$, and $H(P)$ is the entropy of $P$. \n",
    "### Example\n",
    "![Illustration of the Kullback–Leibler (KL) divergence for two normal Gaussian distributions. Note the typical asymmetry for the Kullback–Leibler divergence is clearly visible.](images/KL-Gauss-Example.png)\n",
    "Illustration of the Kullback–Leibler (KL) divergence for two normal Gaussian distributions. Note the typical asymmetry for the Kullback–Leibler divergence is clearly visible."
   ]
  },
  {
   "cell_type": "code",
   "execution_count": null,
   "metadata": {
    "collapsed": true
   },
   "outputs": [],
   "source": []
  }
 ],
 "metadata": {
  "kernelspec": {
   "display_name": "Python 3",
   "language": "python",
   "name": "python3"
  },
  "language_info": {
   "codemirror_mode": {
    "name": "ipython",
    "version": 3
   },
   "file_extension": ".py",
   "mimetype": "text/x-python",
   "name": "python",
   "nbconvert_exporter": "python",
   "pygments_lexer": "ipython3",
   "version": "3.5.2"
  }
 },
 "nbformat": 4,
 "nbformat_minor": 2
}
